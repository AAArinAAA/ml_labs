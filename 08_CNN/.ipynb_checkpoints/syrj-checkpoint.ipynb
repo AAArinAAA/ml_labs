{
 "cells": [
  {
   "cell_type": "code",
   "execution_count": 2,
   "id": "f97b4d4e-208b-4a2b-b9f6-2c5872d510a5",
   "metadata": {},
   "outputs": [],
   "source": [
    "import zipfile as zf\n",
    "files = zf.ZipFile(\"data3 (1).zip\", 'r')\n",
    "files.extractall('data3')\n",
    "files.close()"
   ]
  },
  {
   "cell_type": "code",
   "execution_count": null,
   "id": "30963c79-b669-408f-8dbd-5ac253e12283",
   "metadata": {},
   "outputs": [],
   "source": []
  }
 ],
 "metadata": {
  "kernelspec": {
   "display_name": "Python 3 (ipykernel)",
   "language": "python",
   "name": "python3"
  },
  "language_info": {
   "codemirror_mode": {
    "name": "ipython",
    "version": 3
   },
   "file_extension": ".py",
   "mimetype": "text/x-python",
   "name": "python",
   "nbconvert_exporter": "python",
   "pygments_lexer": "ipython3",
   "version": "3.11.7"
  }
 },
 "nbformat": 4,
 "nbformat_minor": 5
}
